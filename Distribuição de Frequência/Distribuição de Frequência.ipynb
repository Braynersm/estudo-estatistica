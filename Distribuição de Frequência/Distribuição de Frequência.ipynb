{
 "cells": [
  {
   "cell_type": "code",
   "execution_count": 5,
   "metadata": {},
   "outputs": [],
   "source": [
    "# importando bibliotecas\n",
    "import numpy as np\n",
    "import pandas as pd\n",
    "from math import ceil"
   ]
  },
  {
   "cell_type": "code",
   "execution_count": 76,
   "metadata": {},
   "outputs": [],
   "source": [
    "# Criando a base de dados(numericos) com array\n",
    "dados = np.array([150,155,154,153,152,153,\n",
    "                  154,155,153,152,155,152,\n",
    "                  153,154,153,155,150,151,\n",
    "                  151,153,155,154,152,152,\n",
    "                  153,155,154,151,150,151])\n",
    "dados = np.sort(dados)"
   ]
  },
  {
   "cell_type": "code",
   "execution_count": 84,
   "metadata": {},
   "outputs": [],
   "source": [
    "min = dados.min()\n",
    "max = dados.max()\n",
    "amplitude = (max - min)\n",
    "n = len(dados)\n",
    "num_class  = 1 + 3.3 * np.log10(n)\n",
    "int_class = (amplitude / num_class)\n",
    "int_class = ceil(int_class)\n"
   ]
  },
  {
   "cell_type": "code",
   "execution_count": 121,
   "metadata": {},
   "outputs": [],
   "source": [
    "intervalo = np.arange(min, max + 2, step = int_class)\n",
    "\n",
    "int1,int2,int3,int4,int5,int6 = 0,0,0,0,0,0\n",
    "\n",
    "for i in range(len(dados)):\n",
    "    if dados[i] >= intervalo[0] and dados[i] < intervalo[1]:\n",
    "        int1 += 1\n",
    "    elif dados[i] >= intervalo[1] and dados[i] < intervalo[2]:\n",
    "        int2 += 1\n",
    "    elif dados[i] >= intervalo[2] and dados[i] < intervalo[3]:\n",
    "        int3 += 1\n",
    "    elif dados[i] >= intervalo[3] and dados[i] < intervalo[4]:\n",
    "        int4 += 1\n",
    "    elif dados[i] >= intervalo[4] and dados[i] < intervalo[5]:\n",
    "        int5 += 1\n",
    "    elif dados[i] >= intervalo[5] and dados[i] < intervalo[6]:\n",
    "        int6 += 1\n"
   ]
  },
  {
   "cell_type": "code",
   "execution_count": 122,
   "metadata": {},
   "outputs": [
    {
     "data": {
      "text/plain": [
       "[3, 4, 5, 7, 5, 6]"
      ]
     },
     "execution_count": 122,
     "metadata": {},
     "output_type": "execute_result"
    }
   ],
   "source": [
    "frequency = []\n",
    "frequency.append(int1)\n",
    "frequency.append(int2)\n",
    "frequency.append(int3)\n",
    "frequency.append(int4)\n",
    "frequency.append(int5)\n",
    "frequency.append(int6)\n",
    "\n",
    "\n",
    "frequency\n",
    "\n"
   ]
  },
  {
   "cell_type": "code",
   "execution_count": 125,
   "metadata": {},
   "outputs": [
    {
     "data": {
      "text/plain": [
       "['150-151', '151-152', '152-153', '153-154', '154-155', '155-156']"
      ]
     },
     "execution_count": 125,
     "metadata": {},
     "output_type": "execute_result"
    }
   ],
   "source": [
    "classes = []\n",
    "\n",
    "for posicao in range(len(frequency)):\n",
    "    classes.append(str(intervalo[posicao]) + '-' + str(intervalo[posicao + 1]))\n",
    "    \n",
    "\n"
   ]
  },
  {
   "cell_type": "code",
   "execution_count": null,
   "metadata": {},
   "outputs": [],
   "source": [
    "# VISUALIZACAO NO GRAFICO DE BARRAS"
   ]
  },
  {
   "cell_type": "code",
   "execution_count": 126,
   "metadata": {},
   "outputs": [
    {
     "data": {
      "text/plain": [
       "Text(0, 0.5, 'Frequência')"
      ]
     },
     "execution_count": 126,
     "metadata": {},
     "output_type": "execute_result"
    },
    {
     "data": {
      "image/png": "[encoded data removed]",
      "text/plain": [
       "<Figure size 432x288 with 1 Axes>"
      ]
     },
     "metadata": {
      "needs_background": "light"
     },
     "output_type": "display_data"
    }
   ],
   "source": [
    "plt.bar(classes, frequency)\n",
    "plt.title('Tabela de Frequência')\n",
    "plt.xlabel('Intervalo de Classes')\n",
    "plt.ylabel('Frequência')"
   ]
  },
  {
   "cell_type": "code",
   "execution_count": 273,
   "metadata": {},
   "outputs": [
    {
     "data": {
      "text/html": [
       "<div>\n",
       "<style scoped>\n",
       "    .dataframe tbody tr th:only-of-type {\n",
       "        vertical-align: middle;\n",
       "    }\n",
       "\n",
       "    .dataframe tbody tr th {\n",
       "        vertical-align: top;\n",
       "    }\n",
       "\n",
       "    .dataframe thead th {\n",
       "        text-align: right;\n",
       "    }\n",
       "</style>\n",
       "<table border=\"1\" class=\"dataframe\">\n",
       "  <thead>\n",
       "    <tr style=\"text-align: right;\">\n",
       "      <th></th>\n",
       "      <th>age</th>\n",
       "      <th>workclass</th>\n",
       "      <th>final-weight</th>\n",
       "      <th>education</th>\n",
       "      <th>education-num</th>\n",
       "      <th>marital-status</th>\n",
       "      <th>occupation</th>\n",
       "      <th>relationship</th>\n",
       "      <th>race</th>\n",
       "      <th>sex</th>\n",
       "      <th>capital-gain</th>\n",
       "      <th>capital-loos</th>\n",
       "      <th>hour-per-week</th>\n",
       "      <th>native-country</th>\n",
       "      <th>income</th>\n",
       "    </tr>\n",
       "  </thead>\n",
       "  <tbody>\n",
       "    <tr>\n",
       "      <th>0</th>\n",
       "      <td>39</td>\n",
       "      <td>State-gov</td>\n",
       "      <td>77516</td>\n",
       "      <td>Bachelors</td>\n",
       "      <td>13</td>\n",
       "      <td>Never-married</td>\n",
       "      <td>Adm-clerical</td>\n",
       "      <td>Not-in-family</td>\n",
       "      <td>White</td>\n",
       "      <td>Male</td>\n",
       "      <td>2174</td>\n",
       "      <td>0</td>\n",
       "      <td>40</td>\n",
       "      <td>United-States</td>\n",
       "      <td>&lt;=50K</td>\n",
       "    </tr>\n",
       "    <tr>\n",
       "      <th>1</th>\n",
       "      <td>50</td>\n",
       "      <td>Self-emp-not-inc</td>\n",
       "      <td>83311</td>\n",
       "      <td>Bachelors</td>\n",
       "      <td>13</td>\n",
       "      <td>Married-civ-spouse</td>\n",
       "      <td>Exec-managerial</td>\n",
       "      <td>Husband</td>\n",
       "      <td>White</td>\n",
       "      <td>Male</td>\n",
       "      <td>0</td>\n",
       "      <td>0</td>\n",
       "      <td>13</td>\n",
       "      <td>United-States</td>\n",
       "      <td>&lt;=50K</td>\n",
       "    </tr>\n",
       "    <tr>\n",
       "      <th>2</th>\n",
       "      <td>38</td>\n",
       "      <td>Private</td>\n",
       "      <td>215646</td>\n",
       "      <td>HS-grad</td>\n",
       "      <td>9</td>\n",
       "      <td>Divorced</td>\n",
       "      <td>Handlers-cleaners</td>\n",
       "      <td>Not-in-family</td>\n",
       "      <td>White</td>\n",
       "      <td>Male</td>\n",
       "      <td>0</td>\n",
       "      <td>0</td>\n",
       "      <td>40</td>\n",
       "      <td>United-States</td>\n",
       "      <td>&lt;=50K</td>\n",
       "    </tr>\n",
       "    <tr>\n",
       "      <th>3</th>\n",
       "      <td>53</td>\n",
       "      <td>Private</td>\n",
       "      <td>234721</td>\n",
       "      <td>11th</td>\n",
       "      <td>7</td>\n",
       "      <td>Married-civ-spouse</td>\n",
       "      <td>Handlers-cleaners</td>\n",
       "      <td>Husband</td>\n",
       "      <td>Black</td>\n",
       "      <td>Male</td>\n",
       "      <td>0</td>\n",
       "      <td>0</td>\n",
       "      <td>40</td>\n",
       "      <td>United-States</td>\n",
       "      <td>&lt;=50K</td>\n",
       "    </tr>\n",
       "    <tr>\n",
       "      <th>4</th>\n",
       "      <td>28</td>\n",
       "      <td>Private</td>\n",
       "      <td>338409</td>\n",
       "      <td>Bachelors</td>\n",
       "      <td>13</td>\n",
       "      <td>Married-civ-spouse</td>\n",
       "      <td>Prof-specialty</td>\n",
       "      <td>Wife</td>\n",
       "      <td>Black</td>\n",
       "      <td>Female</td>\n",
       "      <td>0</td>\n",
       "      <td>0</td>\n",
       "      <td>40</td>\n",
       "      <td>Cuba</td>\n",
       "      <td>&lt;=50K</td>\n",
       "    </tr>\n",
       "  </tbody>\n",
       "</table>\n",
       "</div>"
      ],
      "text/plain": [
       "   age          workclass  final-weight   education  education-num  \\\n",
       "0   39          State-gov         77516   Bachelors             13   \n",
       "1   50   Self-emp-not-inc         83311   Bachelors             13   \n",
       "2   38            Private        215646     HS-grad              9   \n",
       "3   53            Private        234721        11th              7   \n",
       "4   28            Private        338409   Bachelors             13   \n",
       "\n",
       "        marital-status          occupation    relationship    race      sex  \\\n",
       "0        Never-married        Adm-clerical   Not-in-family   White     Male   \n",
       "1   Married-civ-spouse     Exec-managerial         Husband   White     Male   \n",
       "2             Divorced   Handlers-cleaners   Not-in-family   White     Male   \n",
       "3   Married-civ-spouse   Handlers-cleaners         Husband   Black     Male   \n",
       "4   Married-civ-spouse      Prof-specialty            Wife   Black   Female   \n",
       "\n",
       "   capital-gain  capital-loos  hour-per-week  native-country  income  \n",
       "0          2174             0             40   United-States   <=50K  \n",
       "1             0             0             13   United-States   <=50K  \n",
       "2             0             0             40   United-States   <=50K  \n",
       "3             0             0             40   United-States   <=50K  \n",
       "4             0             0             40            Cuba   <=50K  "
      ]
     },
     "execution_count": 273,
     "metadata": {},
     "output_type": "execute_result"
    }
   ],
   "source": [
    "df = pd.read_csv(r'C:\\Users\\brayn\\Documents\\Analise de dados\\Estatistica e programação\\0 - Bases de dados\\Outros\\census.csv')\n",
    "df.head()"
   ]
  },
  {
   "cell_type": "code",
   "execution_count": 183,
   "metadata": {},
   "outputs": [
    {
     "data": {
      "text/plain": [
       "array([17, 17, 17, ..., 90, 90, 90], dtype=int64)"
      ]
     },
     "execution_count": 183,
     "metadata": {},
     "output_type": "execute_result"
    }
   ],
   "source": [
    "age = df['age']\n",
    "age = age.values\n",
    "age.sort()\n",
    "age"
   ]
  },
  {
   "cell_type": "code",
   "execution_count": 186,
   "metadata": {},
   "outputs": [
    {
     "data": {
      "text/plain": [
       "(array([17, 18, 19, 20, 21, 22, 23, 24, 25, 26, 27, 28, 29, 30, 31, 32, 33,\n",
       "        34, 35, 36, 37, 38, 39, 40, 41, 42, 43, 44, 45, 46, 47, 48, 49, 50,\n",
       "        51, 52, 53, 54, 55, 56, 57, 58, 59, 60, 61, 62, 63, 64, 65, 66, 67,\n",
       "        68, 69, 70, 71, 72, 73, 74, 75, 76, 77, 78, 79, 80, 81, 82, 83, 84,\n",
       "        85, 86, 87, 88, 90], dtype=int64),\n",
       " array([395, 550, 712, 753, 720, 765, 877, 798, 841, 785, 835, 867, 813,\n",
       "        861, 888, 828, 875, 886, 876, 898, 858, 827, 816, 794, 808, 780,\n",
       "        770, 724, 734, 737, 708, 543, 577, 602, 595, 478, 464, 415, 419,\n",
       "        366, 358, 366, 355, 312, 300, 258, 230, 208, 178, 150, 151, 120,\n",
       "        108,  89,  72,  67,  64,  51,  45,  46,  29,  23,  22,  22,  20,\n",
       "         12,   6,  10,   3,   1,   1,   3,  43], dtype=int64))"
      ]
     },
     "execution_count": 186,
     "metadata": {},
     "output_type": "execute_result"
    }
   ],
   "source": [
    "idades_e_Quantidades = np.unique(age, return_counts=True)\n",
    "idades_e_Quantidades"
   ]
  },
  {
   "cell_type": "code",
   "execution_count": 234,
   "metadata": {},
   "outputs": [
    {
     "data": {
      "text/plain": [
       "10"
      ]
     },
     "execution_count": 234,
     "metadata": {},
     "output_type": "execute_result"
    }
   ],
   "source": [
    "min2 = age.min() \n",
    "max2 = age.max()\n",
    "amplitude2 = (max2 - min2)\n",
    "age_n = len(age)\n",
    "age_num_class = (1 + 3.3 * np.log10(age_n))/2\n",
    "age_num_class = ceil(age_num_class)\n",
    "age_inter_class = amplitude2 / age_num_class\n",
    "age_inter_class = ceil(age_inter_class)\n",
    "age_inter_class"
   ]
  },
  {
   "cell_type": "code",
   "execution_count": 256,
   "metadata": {},
   "outputs": [],
   "source": [
    "age_intervalo = np.arange(min2,max2+8,step = age_inter_class)\n",
    "age_intervalo\n",
    "\n",
    "idade1,idade2,idade3,idade4,idade5,idade6,idade7,idade8 = 0,0,0,0,0,0,0,0\n",
    "\n",
    "for i in range(len(age)):\n",
    "    if age[i] >= age_intervalo[0] and age[i] < age_intervalo[1]:\n",
    "        idade1 += 1\n",
    "    elif age[i] >= age_intervalo[1] and age[i] < age_intervalo[2]:\n",
    "        idade2 += 1\n",
    "    elif age[i] >= age_intervalo[2] and age[i] < age_intervalo[3]:\n",
    "        idade3 += 1\n",
    "    elif age[i] >= age_intervalo[3] and age[i] < age_intervalo[4]:\n",
    "        idade4 += 1\n",
    "    elif age[i] >= age_intervalo[4] and age[i] < age_intervalo[5]:\n",
    "        idade5 += 1\n",
    "    elif age[i] >= age_intervalo[5] and age[i] < age_intervalo[6]:\n",
    "        idade6 += 1\n",
    "    elif age[i] >= age_intervalo[6] and age[i] < age_intervalo[7]:\n",
    "        idade7 += 1\n",
    "    elif age[i] >= age_intervalo[7] and age[i] < age_intervalo[8]:\n",
    "        idade8 += 1\n",
    "    "
   ]
  },
  {
   "cell_type": "code",
   "execution_count": 258,
   "metadata": {},
   "outputs": [
    {
     "data": {
      "text/plain": [
       "[7196, 8627, 7848, 5167, 2715, 813, 148, 47]"
      ]
     },
     "execution_count": 258,
     "metadata": {},
     "output_type": "execute_result"
    }
   ],
   "source": [
    "age_frequency = []\n",
    "age_frequency.append(idade1)\n",
    "age_frequency.append(idade2)\n",
    "age_frequency.append(idade3)\n",
    "age_frequency.append(idade4)\n",
    "age_frequency.append(idade5)\n",
    "age_frequency.append(idade6)\n",
    "age_frequency.append(idade7)\n",
    "age_frequency.append(idade8)\n",
    "age_frequency"
   ]
  },
  {
   "cell_type": "code",
   "execution_count": 270,
   "metadata": {},
   "outputs": [
    {
     "data": {
      "text/plain": [
       "Text(0, 0.5, 'Frequência')"
      ]
     },
     "execution_count": 270,
     "metadata": {},
     "output_type": "execute_result"
    },
    {
     "data": {
      "image/png": "[encoded data removed]",
      "text/plain": [
       "<Figure size 432x288 with 1 Axes>"
      ]
     },
     "metadata": {
      "needs_background": "light"
     },
     "output_type": "display_data"
    }
   ],
   "source": [
    "age_class = []\n",
    "for posicao2 in range(len(age_frequency)):\n",
    "    age_class.append(str(age_intervalo[posicao2]) + '-' + str(age_intervalo[posicao2 + 1]))\n",
    "\n",
    "plt.bar(age_class, age_frequency)\n",
    "plt.title('Idade - Tabela de Frequência')\n",
    "plt.xlabel('Faixa etária')\n",
    "plt.ylabel('Frequência')\n"
   ]
  }
 ],
 "metadata": {
  "kernelspec": {
   "display_name": "base",
   "language": "python",
   "name": "python3"
  },
  "language_info": {
   "codemirror_mode": {
    "name": "ipython",
    "version": 3
   },
   "file_extension": ".py",
   "mimetype": "text/x-python",
   "name": "python",
   "nbconvert_exporter": "python",
   "pygments_lexer": "ipython3",
   "version": "3.9.12"
  },
  "orig_nbformat": 4
 },
 "nbformat": 4,
 "nbformat_minor": 2
}
