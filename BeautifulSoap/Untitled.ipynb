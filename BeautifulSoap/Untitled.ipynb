{
 "cells": [
  {
   "cell_type": "code",
   "execution_count": 14,
   "id": "7058a87e",
   "metadata": {},
   "outputs": [],
   "source": [
    "import pandas as pd\n",
    "import numpy as np\n",
    "import requests as rq\n",
    "from bs4 import BeautifulSoup as bs"
   ]
  },
  {
   "cell_type": "code",
   "execution_count": 22,
   "id": "e8b121ea",
   "metadata": {},
   "outputs": [],
   "source": [
    "cb = {'user-agent':'Mozilla/5.0'}\n",
    "req = rq.get('https://lista.mercadolivre.com.br/mochila#D[A:mochila]',\n",
    "            headers = cb)\n",
    "Bsoup = req.text"
   ]
  },
  {
   "cell_type": "code",
   "execution_count": null,
   "id": "cdecce6f",
   "metadata": {},
   "outputs": [],
   "source": []
  },
  {
   "cell_type": "code",
   "execution_count": 30,
   "id": "0e3c3256",
   "metadata": {},
   "outputs": [],
   "source": [
    "beaut = bs(Bsoup, 'html.parser')\n",
    "# print(beaut.prettify())\n"
   ]
  },
  {
   "cell_type": "code",
   "execution_count": 48,
   "id": "13c7bfc7",
   "metadata": {},
   "outputs": [
    {
     "data": {
      "text/plain": [
       "<span class=\"price-tag-text-sr-only\">399 reais</span>"
      ]
     },
     "execution_count": 48,
     "metadata": {},
     "output_type": "execute_result"
    }
   ],
   "source": [
    "beaut.find('span', class_ = 'price-tag-text-sr-only')"
   ]
  }
 ],
 "metadata": {
  "kernelspec": {
   "display_name": "Python 3 (ipykernel)",
   "language": "python",
   "name": "python3"
  },
  "language_info": {
   "codemirror_mode": {
    "name": "ipython",
    "version": 3
   },
   "file_extension": ".py",
   "mimetype": "text/x-python",
   "name": "python",
   "nbconvert_exporter": "python",
   "pygments_lexer": "ipython3",
   "version": "3.9.12"
  }
 },
 "nbformat": 4,
 "nbformat_minor": 5
}
