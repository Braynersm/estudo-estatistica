{
 "cells": [
  {
   "cell_type": "code",
   "execution_count": 22,
   "metadata": {},
   "outputs": [],
   "source": [
    "# importando bibliotecas\n",
    "import numpy as np\n",
    "import pandas as pd\n",
    "from math import ceil\n",
    "import matplotlib.pyplot as plt"
   ]
  },
  {
   "cell_type": "code",
   "execution_count": 32,
   "metadata": {},
   "outputs": [
    {
     "data": {
      "text/plain": [
       "array([150, 150, 150, 151, 151, 151, 151, 152, 152, 152, 152, 152, 153,\n",
       "       153, 153, 153, 153, 153, 153, 154, 154, 154, 154, 154, 155, 155,\n",
       "       155, 155, 155, 155])"
      ]
     },
     "execution_count": 32,
     "metadata": {},
     "output_type": "execute_result"
    }
   ],
   "source": [
    "# Criando a base de dados(numericos) com array\n",
    "dados = np.array([150,155,154,153,152,153,\n",
    "                  154,155,153,152,155,152,\n",
    "                  153,154,153,155,150,151,\n",
    "                  151,153,155,154,152,152,\n",
    "                  153,155,154,151,150,151])\n",
    "dados = np.sort(dados)\n",
    "dados"
   ]
  },
  {
   "cell_type": "code",
   "execution_count": 34,
   "metadata": {},
   "outputs": [
    {
     "data": {
      "text/plain": [
       "1"
      ]
     },
     "execution_count": 34,
     "metadata": {},
     "output_type": "execute_result"
    }
   ],
   "source": [
    "# calculo de minima.\n",
    "min = dados.min()\n",
    "\n",
    "# calculo de maximo.\n",
    "max = dados.max()\n",
    "\n",
    "# Calculo de amplitude.\n",
    "amplitude = (max - min)\n",
    "\n",
    "# Encontrar numero de classes da tabela de frequência.\n",
    "n = len(dados)\n",
    "num_class = 1 + 3.3 * np.log10(n)\n",
    "num_class = round(num_class)\n",
    "\n",
    "\n",
    "# Encontrar a amplitude do intervalo de classe. \n",
    "inter_class = (amplitude / num_class)\n",
    "inter_class = ceil(inter_class)\n",
    "inter_class"
   ]
  },
  {
   "cell_type": "code",
   "execution_count": 55,
   "metadata": {},
   "outputs": [
    {
     "name": "stdout",
     "output_type": "stream",
     "text": [
      "[150 151 152 153 154 155]\n"
     ]
    },
    {
     "data": {
      "text/plain": [
       "[3, 4, 5, 7, 5, 6]"
      ]
     },
     "execution_count": 55,
     "metadata": {},
     "output_type": "execute_result"
    }
   ],
   "source": [
    "# Parâmetrizar os intervalos de cada classe.\n",
    "intervalos = np.arange(min, max + 1, step = inter_class)\n",
    "print(intervalos)\n",
    "\n",
    "# Criando variaveis e atribuindo a zero(zero é o \n",
    "# ponto de partida)\n",
    "inter1, inter2, inter3,inter4,inter5,inter6 = 0,0,0,0,0,0\n",
    "\n",
    "# Parâmetrizando a contagem de frequencias dentro\n",
    "# do intervalo de classe\n",
    "for i in range(n):\n",
    "    if dados[i] >= intervalos[0] and dados[i] < intervalos[1]:\n",
    "        inter1 += 1\n",
    "    elif dados[i] >= intervalos[1] and dados[i] < intervalos[2]:\n",
    "        inter2 += 1\n",
    "    elif dados[i] >= intervalos[2] and dados[i] < intervalos[3]:\n",
    "        inter3 += 1\n",
    "    elif dados[i] >= intervalos[3] and dados[i] < intervalos[4]:\n",
    "        inter4 += 1\n",
    "    elif dados[i] >= intervalos[4] and dados[i] < intervalos[5]:\n",
    "        inter5 += 1\n",
    "    elif dados[i] >= intervalos[5]:\n",
    "        inter6 += 1\n",
    "\n",
    "# Criar lista vazia para receber(append) as 6 variaveis criadas\n",
    "#  anteriormente (inter1, inter2, inter3....)\n",
    "lista_inter = []\n",
    "lista_inter.append(inter1)\n",
    "lista_inter.append(inter2)\n",
    "lista_inter.append(inter3) \n",
    "lista_inter.append(inter4) \n",
    "lista_inter.append(inter5) \n",
    "lista_inter.append(inter6)  \n",
    "lista_inter"
   ]
  }
 ],
 "metadata": {
  "kernelspec": {
   "display_name": "base",
   "language": "python",
   "name": "python3"
  },
  "language_info": {
   "codemirror_mode": {
    "name": "ipython",
    "version": 3
   },
   "file_extension": ".py",
   "mimetype": "text/x-python",
   "name": "python",
   "nbconvert_exporter": "python",
   "pygments_lexer": "ipython3",
   "version": "3.9.12"
  },
  "orig_nbformat": 4
 },
 "nbformat": 4,
 "nbformat_minor": 2
}
